{
 "cells": [
  {
   "cell_type": "code",
   "execution_count": 5,
   "id": "9614f042-fb93-4205-8de5-1f79c79d0736",
   "metadata": {},
   "outputs": [],
   "source": [
    "#Ans1: An API (Application Programming Interface) is a set of rules and protocols that allows one software application to interact with another. \n",
    "#real time example and use_\n",
    "# Your weather application parses this JSON response and displays the current weather conditions to the user."
   ]
  },
  {
   "cell_type": "code",
   "execution_count": 3,
   "id": "1c3b7780-7701-4346-9e7d-2a6f5b0b26fd",
   "metadata": {},
   "outputs": [],
   "source": [
    "#Ans2:\n",
    "#Advantages\n",
    "#Modularity and Reusability: Enables independent development and reuse of components.\n",
    "#Interoperability: Facilitates communication between different systems and platforms.\n",
    "#Efficiency: Reduces development effort by leveraging existing services.\n",
    "#Disadvantages\n",
    "#Complexity: Can introduce complexity in managing multiple API integrations.\n",
    "#Dependency: Relying on third-party APIs can create dependencies that are out of your control.\n",
    "#Security Risks: Exposing APIs can create potential security vulnerabilities if not properly secured."
   ]
  },
  {
   "cell_type": "code",
   "execution_count": 1,
   "id": "872998a0-31d1-4bee-bbaa-4a13d8c628ac",
   "metadata": {},
   "outputs": [],
   "source": [
    "#Ans3: A Web API (Web Application Programming Interface) is a type of API that allows communication between web servers and clients (such as web browsers or mobile apps) over HTTP.\n",
    "#Difference\n",
    "#API: A general term for a set of rules and protocols allowing software components to communicate, which can include local or remote systems and various communication methods.\n",
    "#Web API: A specific type of API that uses HTTP/HTTPS protocols to enable communication between web servers and clients, often in a web-based context."
   ]
  },
  {
   "cell_type": "code",
   "execution_count": 7,
   "id": "f1305ff0-ffb5-49f3-bf23-c75dc4f3f1e0",
   "metadata": {},
   "outputs": [],
   "source": [
    "#Ans4:a.REST (Representational State Transfer) is an architectural style for designing networked applications, primarily used with HTTP\n",
    "#    b.SOAP (Simple Object Access Protocol) is a protocol for exchanging structured information in the implementation of web services. \n",
    "#Shortcomings of SOAP\n",
    "#1.Complexity\n",
    "#2.Performance\n",
    "#3.Less Flexible\n",
    "#4.Overhead"
   ]
  },
  {
   "cell_type": "code",
   "execution_count": 9,
   "id": "8c961f9b-acb3-4af2-98bd-615203177791",
   "metadata": {},
   "outputs": [],
   "source": [
    "#Ans5:\n",
    "#1.Protocol vs. Style:\n",
    "#a.REST: An architectural style using HTTP methods and URIs.\n",
    "#b.SOAP: A protocol that uses XML for messaging.\n",
    "#2.Data Format:\n",
    "#a.REST: Supports multiple formats like JSON, XML, HTML.\n",
    "#b.SOAP: Strictly uses XML for messaging.\n",
    "#3.Standards:\n",
    "#a.REST: Less rigid, relies on standard HTTP methods and URIs.\n",
    "#b.SOAP: Highly standardized with strict protocols and XML-based features.\n",
    "#3.Statefulness:\n",
    "#a.REST: Stateless, with each request containing all necessary information.\n",
    "#b.SOAP: Can be stateful or stateless, supporting complex operations."
   ]
  },
  {
   "cell_type": "code",
   "execution_count": null,
   "id": "3669c74f-dd6b-4f6d-ab92-c680ce611c29",
   "metadata": {},
   "outputs": [],
   "source": []
  }
 ],
 "metadata": {
  "kernelspec": {
   "display_name": "Python 3 (ipykernel)",
   "language": "python",
   "name": "python3"
  },
  "language_info": {
   "codemirror_mode": {
    "name": "ipython",
    "version": 3
   },
   "file_extension": ".py",
   "mimetype": "text/x-python",
   "name": "python",
   "nbconvert_exporter": "python",
   "pygments_lexer": "ipython3",
   "version": "3.12.4"
  }
 },
 "nbformat": 4,
 "nbformat_minor": 5
}
